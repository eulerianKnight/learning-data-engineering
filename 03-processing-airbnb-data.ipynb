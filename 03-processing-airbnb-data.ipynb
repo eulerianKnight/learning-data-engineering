{
 "cells": [
  {
   "cell_type": "markdown",
   "id": "6792599e-23a4-4e5a-a340-3827b2db65ef",
   "metadata": {},
   "source": [
    "# Processing Airbnb Data"
   ]
  },
  {
   "cell_type": "code",
   "execution_count": 1,
   "id": "cc8472be-68e2-4f17-864a-fe092f6ffe6c",
   "metadata": {},
   "outputs": [
    {
     "name": "stderr",
     "output_type": "stream",
     "text": [
      "25/07/13 21:48:35 WARN SparkSession: Using an existing Spark session; only runtime SQL configurations will take effect.\n"
     ]
    }
   ],
   "source": [
    "from pyspark.sql import SparkSession\n",
    "\n",
    "spark = SparkSession.builder.appName(\"Airbnb data processing\").getOrCreate()"
   ]
  },
  {
   "cell_type": "code",
   "execution_count": 2,
   "id": "ef15b28a-c279-487c-8269-74afc35853ff",
   "metadata": {},
   "outputs": [
    {
     "name": "stderr",
     "output_type": "stream",
     "text": [
      "                                                                                "
     ]
    }
   ],
   "source": [
    "listings = spark.read.csv(\n",
    "    \"data/listings.csv.gz\", \n",
    "    header=True, \n",
    "    inferSchema=True, \n",
    "    sep=\",\", \n",
    "    quote='\"', \n",
    "    escape='\"', \n",
    "    multiLine=True, \n",
    "    mode=\"PERMISSIVE\"\n",
    ")"
   ]
  },
  {
   "cell_type": "code",
   "execution_count": 3,
   "id": "0f088f84-e8b0-4080-b068-62f913b8243a",
   "metadata": {},
   "outputs": [
    {
     "name": "stdout",
     "output_type": "stream",
     "text": [
      "+----------------------+\n",
      "|review_scores_location|\n",
      "+----------------------+\n",
      "|                  4.62|\n",
      "|                  4.54|\n",
      "|                  4.36|\n",
      "|                   4.5|\n",
      "|                  4.37|\n",
      "|                   4.5|\n",
      "|                  4.53|\n",
      "|                  4.52|\n",
      "|                  4.49|\n",
      "|                  4.94|\n",
      "|                  4.82|\n",
      "|                  4.92|\n",
      "|                  4.14|\n",
      "|                  4.78|\n",
      "|                  4.43|\n",
      "|                  4.73|\n",
      "|                  NULL|\n",
      "|                  NULL|\n",
      "|                  4.48|\n",
      "|                  4.75|\n",
      "+----------------------+\n",
      "only showing top 20 rows\n"
     ]
    }
   ],
   "source": [
    "review_locations = listings.select(listings.review_scores_location)\n",
    "review_locations.show()"
   ]
  },
  {
   "cell_type": "code",
   "execution_count": 4,
   "id": "a39523a8-c353-4520-89ee-2be6e496dd62",
   "metadata": {},
   "outputs": [
    {
     "name": "stdout",
     "output_type": "stream",
     "text": [
      "+------+-------+------------------------------------------------+----------------------+\n",
      "|id    |price  |name                                            |review_scores_location|\n",
      "+------+-------+------------------------------------------------+----------------------+\n",
      "|264776|$297.00|Huge Four Bedroom Apartment                     |4.62                  |\n",
      "|264777|$98.00 |One Bedroom Apartment                           |4.54                  |\n",
      "|264782|$120.00|One Bedroom Garden Apartment                    |4.53                  |\n",
      "|264783|$216.00|Four Bedroom Garden Apartment                   |4.52                  |\n",
      "|266037|$62.00 |Central London with Stunning Views!             |4.94                  |\n",
      "|268398|$66.00 |Also five minutes to South Bank                 |4.82                  |\n",
      "|270600|$73.00 |Patio Apartment in London (Twickenham)          |4.92                  |\n",
      "|425143|NULL   |luxury 1bed in Chelsea Bridge Wharf             |4.78                  |\n",
      "|426354|$200.00|1 bedroom flat with big balcony!                |4.73                  |\n",
      "|427584|$129.00|Hackney Stylish & light 1 bedroom Victorian flat|4.75                  |\n",
      "|427936|$70.00 |Boutique Room w/ Private Bath, Balcony          |4.88                  |\n",
      "|274740|$248.00|Top Floor Sunset View   Chelsea apartment       |4.58                  |\n",
      "|13913 |$72.00 |Holiday London DB Room Let-on going             |4.77                  |\n",
      "|15400 |$120.00|Bright Chelsea  Apartment. Chelsea!             |4.93                  |\n",
      "|17402 |$510.00|Very Central Modern 3-Bed/2 Bath By Oxford St W1|4.89                  |\n",
      "|24328 |$213.00|Battersea live/work artist house                |4.59                  |\n",
      "|34935 |$153.00|Bright 1 Bedroom Apartment w 2 beds Brick Lane  |4.59                  |\n",
      "|36299 |$245.00|Kew Gardens 3BR house in cul-de-sac             |4.9                   |\n",
      "|36660 |$74.00 |You are GUARANTEED to love this                 |4.77                  |\n",
      "|38610 |NULL   |CHARMING FAMILY HOME                            |4.79                  |\n",
      "+------+-------+------------------------------------------------+----------------------+\n",
      "only showing top 20 rows\n"
     ]
    }
   ],
   "source": [
    "high_score_listings = listings \\\n",
    "    .filter(listings.review_scores_location > 4.5) \\\n",
    "    .select('id', 'price', 'name', 'review_scores_location')\n",
    "high_score_listings.show(20, truncate=False)"
   ]
  },
  {
   "cell_type": "code",
   "execution_count": 5,
   "id": "416ad482-98a1-4dbe-b92d-16352f559053",
   "metadata": {},
   "outputs": [
    {
     "name": "stdout",
     "output_type": "stream",
     "text": [
      "+------+-------+------------------------------------------------+----------------------+\n",
      "|id    |price  |name                                            |review_scores_location|\n",
      "+------+-------+------------------------------------------------+----------------------+\n",
      "|264776|$297.00|Huge Four Bedroom Apartment                     |4.62                  |\n",
      "|264777|$98.00 |One Bedroom Apartment                           |4.54                  |\n",
      "|264782|$120.00|One Bedroom Garden Apartment                    |4.53                  |\n",
      "|264783|$216.00|Four Bedroom Garden Apartment                   |4.52                  |\n",
      "|266037|$62.00 |Central London with Stunning Views!             |4.94                  |\n",
      "|268398|$66.00 |Also five minutes to South Bank                 |4.82                  |\n",
      "|270600|$73.00 |Patio Apartment in London (Twickenham)          |4.92                  |\n",
      "|426354|$200.00|1 bedroom flat with big balcony!                |4.73                  |\n",
      "|427584|$129.00|Hackney Stylish & light 1 bedroom Victorian flat|4.75                  |\n",
      "|427936|$70.00 |Boutique Room w/ Private Bath, Balcony          |4.88                  |\n",
      "|274740|$248.00|Top Floor Sunset View   Chelsea apartment       |4.58                  |\n",
      "|13913 |$72.00 |Holiday London DB Room Let-on going             |4.77                  |\n",
      "|15400 |$120.00|Bright Chelsea  Apartment. Chelsea!             |4.93                  |\n",
      "|17402 |$510.00|Very Central Modern 3-Bed/2 Bath By Oxford St W1|4.89                  |\n",
      "|24328 |$213.00|Battersea live/work artist house                |4.59                  |\n",
      "|34935 |$153.00|Bright 1 Bedroom Apartment w 2 beds Brick Lane  |4.59                  |\n",
      "|36299 |$245.00|Kew Gardens 3BR house in cul-de-sac             |4.9                   |\n",
      "|36660 |$74.00 |You are GUARANTEED to love this                 |4.77                  |\n",
      "|275140|$111.00|Great location, direct links to London Bridge!  |4.54                  |\n",
      "|432841|$104.00|Large double bedroom in Shoreditch w/garden     |4.79                  |\n",
      "+------+-------+------------------------------------------------+----------------------+\n",
      "only showing top 20 rows\n"
     ]
    }
   ],
   "source": [
    "# Remove Rows with Null\n",
    "high_score_listings.dropna().show(20, truncate=False)"
   ]
  },
  {
   "cell_type": "code",
   "execution_count": 7,
   "id": "73027664-85bf-4ecd-9882-875c76df832b",
   "metadata": {},
   "outputs": [
    {
     "data": {
      "text/plain": [
       "StructField('price_num', FloatType(), True)"
      ]
     },
     "execution_count": 7,
     "metadata": {},
     "output_type": "execute_result"
    }
   ],
   "source": [
    "# Remove the dollar sign from Price and convert to numerical\n",
    "from pyspark.sql.functions import regexp_replace\n",
    "\n",
    "price_num_df = listings.withColumn('price_num', regexp_replace('price', '[$,]', '').cast('float'))\n",
    "\n",
    "price_num_df.schema['price_num']"
   ]
  },
  {
   "cell_type": "code",
   "execution_count": 8,
   "id": "d45ca63f-c2ed-4543-a210-294063f5af8a",
   "metadata": {},
   "outputs": [
    {
     "name": "stdout",
     "output_type": "stream",
     "text": [
      "+---------+--------------------------------------------------+\n",
      "|price_num|name                                              |\n",
      "+---------+--------------------------------------------------+\n",
      "|297.0    |Huge Four Bedroom Apartment                       |\n",
      "|98.0     |One Bedroom Apartment                             |\n",
      "|148.0    |Two Bedroom Newly Refurbished Apartment           |\n",
      "|144.0    |Refurbished Two Bedroom Apartment                 |\n",
      "|157.0    |Spacious refurbished 2 bedroom apt with balcony   |\n",
      "|148.0    |Two Bedrooms Garden Maisonette                    |\n",
      "|120.0    |One Bedroom Garden Apartment                      |\n",
      "|216.0    |Four Bedroom Garden Apartment                     |\n",
      "|238.0    |Huge Three Bedroom Flat with parking and terrace  |\n",
      "|62.0     |Central London with Stunning Views!               |\n",
      "|66.0     |Also five minutes to South Bank                   |\n",
      "|73.0     |Patio Apartment in London (Twickenham)            |\n",
      "|NULL     |Heathrow BNB - Home Away From Home!               |\n",
      "|NULL     |luxury 1bed in Chelsea Bridge Wharf               |\n",
      "|134.0    |2 Bed Edwardian Maisonette with Sunny Garden      |\n",
      "|200.0    |1 bedroom flat with big balcony!                  |\n",
      "|NULL     |Kitchener House!                                  |\n",
      "|155.0    |Cool shoreditch courtyard flat                    |\n",
      "|135.0    |Lovely 2 bedroom flat near Brixton, zone 2, London|\n",
      "|129.0    |Hackney Stylish & light 1 bedroom Victorian flat  |\n",
      "+---------+--------------------------------------------------+\n",
      "only showing top 20 rows\n"
     ]
    }
   ],
   "source": [
    "price_num_df.select('price_num', 'name').show(20, truncate=False)"
   ]
  },
  {
   "cell_type": "code",
   "execution_count": 9,
   "id": "0b758882-b7e5-4a71-85fe-a772b960a6f7",
   "metadata": {},
   "outputs": [
    {
     "name": "stdout",
     "output_type": "stream",
     "text": [
      "+-------------------------------------------------+------+----------------------+\n",
      "|name                                             |price |review_scores_location|\n",
      "+-------------------------------------------------+------+----------------------+\n",
      "|One Bedroom Apartment                            |$98.00|4.54                  |\n",
      "|Central London with Stunning Views!              |$62.00|4.94                  |\n",
      "|Also five minutes to South Bank                  |$66.00|4.82                  |\n",
      "|Patio Apartment in London (Twickenham)           |$73.00|4.92                  |\n",
      "|Boutique Room w/ Private Bath, Balcony           |$70.00|4.88                  |\n",
      "|Holiday London DB Room Let-on going              |$72.00|4.77                  |\n",
      "|You are GUARANTEED to love this                  |$74.00|4.77                  |\n",
      "|Bedroom In Great Location Stratford              |$52.00|4.57                  |\n",
      "|Bright Double + workspace in spacious Garden Flat|$51.00|4.77                  |\n",
      "|SPACIOUS ROOM IN CONTEMPORARY STYLE FLAT         |$52.00|4.79                  |\n",
      "|Room with a view, shared flat,  central  Bankside|$75.00|4.86                  |\n",
      "|You Will Save Money Here                         |$55.00|4.75                  |\n",
      "|Spacious luxury 2 bedroom apartment              |$94.00|4.67                  |\n",
      "|A people person awaits you here!                 |$48.00|4.79                  |\n",
      "|Quiet Comfortable Room in Fulham                 |$47.00|4.64                  |\n",
      "|Sunny double room/balcony/shower/wc              |$55.00|4.72                  |\n",
      "|London, Ealing, W13 Artists Home                 |$80.00|4.91                  |\n",
      "|Attic Room in historic Greenwich                 |$41.00|4.83                  |\n",
      "|202 double room shower Soho comfy                |$83.00|4.94                  |\n",
      "|Dream Apartment in central London                |$60.00|4.92                  |\n",
      "+-------------------------------------------------+------+----------------------+\n",
      "only showing top 20 rows\n"
     ]
    }
   ],
   "source": [
    "# Finding hidden gems\n",
    "# Keep lower price and higher ratings\n",
    "price_num_df.filter( (price_num_df.price_num < 100) & (price_num_df.review_scores_location > 4.5) ) \\\n",
    "    .select('name', 'price', 'review_scores_location') \\\n",
    "    .show(truncate=False)"
   ]
  },
  {
   "cell_type": "code",
   "execution_count": 10,
   "id": "c246bbbe-739c-491b-a862-975fe8b35d42",
   "metadata": {},
   "outputs": [
    {
     "name": "stdout",
     "output_type": "stream",
     "text": [
      "+-------------------------------------------------+------+----------------------+\n",
      "|name                                             |price |review_scores_location|\n",
      "+-------------------------------------------------+------+----------------------+\n",
      "|One Bedroom Apartment                            |$98.00|4.54                  |\n",
      "|Central London with Stunning Views!              |$62.00|4.94                  |\n",
      "|Also five minutes to South Bank                  |$66.00|4.82                  |\n",
      "|Patio Apartment in London (Twickenham)           |$73.00|4.92                  |\n",
      "|Boutique Room w/ Private Bath, Balcony           |$70.00|4.88                  |\n",
      "|Holiday London DB Room Let-on going              |$72.00|4.77                  |\n",
      "|You are GUARANTEED to love this                  |$74.00|4.77                  |\n",
      "|Bedroom In Great Location Stratford              |$52.00|4.57                  |\n",
      "|Bright Double + workspace in spacious Garden Flat|$51.00|4.77                  |\n",
      "|SPACIOUS ROOM IN CONTEMPORARY STYLE FLAT         |$52.00|4.79                  |\n",
      "|Room with a view, shared flat,  central  Bankside|$75.00|4.86                  |\n",
      "|You Will Save Money Here                         |$55.00|4.75                  |\n",
      "|Spacious luxury 2 bedroom apartment              |$94.00|4.67                  |\n",
      "|A people person awaits you here!                 |$48.00|4.79                  |\n",
      "|Quiet Comfortable Room in Fulham                 |$47.00|4.64                  |\n",
      "|Sunny double room/balcony/shower/wc              |$55.00|4.72                  |\n",
      "|London, Ealing, W13 Artists Home                 |$80.00|4.91                  |\n",
      "|Attic Room in historic Greenwich                 |$41.00|4.83                  |\n",
      "|202 double room shower Soho comfy                |$83.00|4.94                  |\n",
      "|Dream Apartment in central London                |$60.00|4.92                  |\n",
      "+-------------------------------------------------+------+----------------------+\n",
      "only showing top 20 rows\n"
     ]
    }
   ],
   "source": [
    "# Filtering conditions can also be defined as string\n",
    "price_num_df.filter('price_num < 100 AND review_scores_location > 4.5') \\\n",
    "    .select('name', 'price', 'review_scores_location') \\\n",
    "    .show(truncate=False)"
   ]
  },
  {
   "cell_type": "code",
   "execution_count": 11,
   "id": "9dc97320-1e2b-47f6-a3d5-d8be818b7906",
   "metadata": {},
   "outputs": [
    {
     "name": "stderr",
     "output_type": "stream",
     "text": [
      "[Stage 8:>                                                          (0 + 1) / 1]"
     ]
    },
    {
     "name": "stdout",
     "output_type": "stream",
     "text": [
      "+----------------------------------+\n",
      "|property_type                     |\n",
      "+----------------------------------+\n",
      "|Private room in lighthouse        |\n",
      "|Private room in loft              |\n",
      "|Private room in earthen home      |\n",
      "|Entire chalet                     |\n",
      "|Earthen home                      |\n",
      "|Farm stay                         |\n",
      "|Entire rental unit                |\n",
      "|Shared room in hostel             |\n",
      "|Shared room                       |\n",
      "|Private room in condo             |\n",
      "|Room in boutique hotel            |\n",
      "|Private room in religious building|\n",
      "|Room in bed and breakfast         |\n",
      "|Private room in casa particular   |\n",
      "|Private room in bungalow          |\n",
      "|Entire cabin                      |\n",
      "|Entire guesthouse                 |\n",
      "|Hut                               |\n",
      "|Private room in nature lodge      |\n",
      "|Entire guest suite                |\n",
      "+----------------------------------+\n",
      "only showing top 20 rows\n"
     ]
    },
    {
     "name": "stderr",
     "output_type": "stream",
     "text": [
      "                                                                                "
     ]
    }
   ],
   "source": [
    "# Find unique property type\n",
    "listings.select(listings.property_type).distinct().show(truncate=False)"
   ]
  },
  {
   "cell_type": "code",
   "execution_count": 12,
   "id": "813d99ab-fdf5-429a-9d4b-0c77d3156108",
   "metadata": {},
   "outputs": [
    {
     "name": "stderr",
     "output_type": "stream",
     "text": [
      "[Stage 11:>                                                         (0 + 1) / 1]"
     ]
    },
    {
     "name": "stdout",
     "output_type": "stream",
     "text": [
      "+----------------------------------+---------------+\n",
      "|property_type                     |room_type      |\n",
      "+----------------------------------+---------------+\n",
      "|Room in hostel                    |Hotel room     |\n",
      "|Private room in casa particular   |Private room   |\n",
      "|Dome                              |Entire home/apt|\n",
      "|Entire serviced apartment         |Entire home/apt|\n",
      "|Private room in loft              |Private room   |\n",
      "|Shipping container                |Entire home/apt|\n",
      "|Private room in villa             |Private room   |\n",
      "|Farm stay                         |Entire home/apt|\n",
      "|Room in hotel                     |Hotel room     |\n",
      "|Shared room in rental unit        |Shared room    |\n",
      "|Private room in guest suite       |Private room   |\n",
      "|Room in rental unit               |Hotel room     |\n",
      "|Room in serviced apartment        |Hotel room     |\n",
      "|Private room in serviced apartment|Private room   |\n",
      "|Private room in hostel            |Private room   |\n",
      "|Shared room                       |Shared room    |\n",
      "|Private room in yurt              |Private room   |\n",
      "|Room in boutique hotel            |Private room   |\n",
      "|Private room in shepherd's hut    |Private room   |\n",
      "|Entire rental unit                |Entire home/apt|\n",
      "+----------------------------------+---------------+\n",
      "only showing top 20 rows\n"
     ]
    },
    {
     "name": "stderr",
     "output_type": "stream",
     "text": [
      "                                                                                "
     ]
    }
   ],
   "source": [
    "# Get all distinct combinations of property type and room type\n",
    "listings \\\n",
    "    .select(listings.property_type, listings.room_type) \\\n",
    "    .distinct() \\\n",
    "    .show(truncate=False)"
   ]
  },
  {
   "cell_type": "code",
   "execution_count": 13,
   "id": "9378ebfa-dcd7-4e15-b0e3-293243944456",
   "metadata": {},
   "outputs": [
    {
     "name": "stderr",
     "output_type": "stream",
     "text": [
      "                                                                                "
     ]
    }
   ],
   "source": [
    "# Write data to file\n",
    "listings \\\n",
    "    .select(listings.property_type) \\\n",
    "    .distinct() \\\n",
    "    .write \\\n",
    "    .csv('data/property_types')"
   ]
  },
  {
   "cell_type": "code",
   "execution_count": 14,
   "id": "258584d9-06d1-43e3-9681-64af6b0ede7c",
   "metadata": {},
   "outputs": [
    {
     "name": "stdout",
     "output_type": "stream",
     "text": [
      "+----------------------------------------------------------------------------------------------------------+\n",
      "|picture_url                                                                                               |\n",
      "+----------------------------------------------------------------------------------------------------------+\n",
      "|https://a0.muscache.com/pictures/hosting/Hosting-264776/original/3cc7b93f-dbda-4ded-ac15-e9d96691e7ca.jpeg|\n",
      "+----------------------------------------------------------------------------------------------------------+\n",
      "\n"
     ]
    }
   ],
   "source": [
    "# 1. Get a non-null picture URL for any property\n",
    "listings.filter(\n",
    "    listings.picture_url.isNotNull()\n",
    ") \\\n",
    "    .select('picture_url') \\\n",
    "    .limit(1) \\\n",
    "    .show(truncate=False)"
   ]
  },
  {
   "cell_type": "code",
   "execution_count": 16,
   "id": "ed07ee0c-b127-4b28-b03d-436df0e4aa24",
   "metadata": {},
   "outputs": [
    {
     "name": "stderr",
     "output_type": "stream",
     "text": [
      "                                                                                "
     ]
    },
    {
     "data": {
      "text/plain": [
       "57"
      ]
     },
     "execution_count": 16,
     "metadata": {},
     "output_type": "execute_result"
    }
   ],
   "source": [
    "# 2. Get number of properties that get more than 10 reviews per month\n",
    "listings.filter(listings.reviews_per_month > 10).count()"
   ]
  },
  {
   "cell_type": "code",
   "execution_count": 17,
   "id": "6060a290-efbc-472c-a453-7ecaa2fa3efb",
   "metadata": {},
   "outputs": [
    {
     "name": "stdout",
     "output_type": "stream",
     "text": [
      "+--------------------------------------------------+---------+--------+\n",
      "|name                                              |bathrooms|bedrooms|\n",
      "+--------------------------------------------------+---------+--------+\n",
      "|Central London with Stunning Views!               |1.5      |1       |\n",
      "|Also five minutes to South Bank                   |1.5      |1       |\n",
      "|Battersea live/work artist house                  |1.5      |1       |\n",
      "|Large double bedroom in Shoreditch w/garden       |1.5      |1       |\n",
      "|Bedroom In Great Location Stratford               |1.5      |1       |\n",
      "|Spacious luxury 2 bedroom apartment               |1.5      |1       |\n",
      "|Very Central! Bayswater Apartment                 |2.0      |1       |\n",
      "|Room in London with a family                      |1.5      |1       |\n",
      "|Stunning large room (double sofa bed), Hackney, E9|1.5      |1       |\n",
      "|Cosy Double studio in Zone 2 Hammersmith (1)      |1.5      |1       |\n",
      "+--------------------------------------------------+---------+--------+\n",
      "only showing top 10 rows\n"
     ]
    }
   ],
   "source": [
    "# 3. Get properties that have more bathrooms than bedrooms\n",
    "listings.filter(\n",
    "    listings.bathrooms > listings.bedrooms\n",
    ") \\\n",
    "    .select('name', 'bathrooms', 'bedrooms') \\\n",
    "    .show(10, truncate=False)"
   ]
  },
  {
   "cell_type": "code",
   "execution_count": 18,
   "id": "4af10770-7492-4586-b32a-6f46613687fb",
   "metadata": {},
   "outputs": [
    {
     "name": "stderr",
     "output_type": "stream",
     "text": [
      "                                                                                "
     ]
    },
    {
     "data": {
      "text/plain": [
       "[Row(name='Room in a cosy flat. Central, clean', price='$8,000.00'),\n",
       " Row(name='Spacious Private Ground Floor Room', price='$6,308.00'),\n",
       " Row(name='No Longer Available', price='$53,588.00'),\n",
       " Row(name='Bright & airy DoubleBed with EnSuite in Zone 2!', price='$74,100.00'),\n",
       " Row(name='Stunning home overlook canary wharf', price='$7,360.00'),\n",
       " Row(name='The Apartments by The Sloane Club, L 2 Bedroom Apt', price='$7,377.00'),\n",
       " Row(name='Kensington- Luxury 2 bedroom ground floor flat', price='$7,796.00'),\n",
       " Row(name='Spacious London Flat', price='$5,034.00'),\n",
       " Row(name='Single room. 7ft x 9ft - Over looking garden', price='$5,700.00'),\n",
       " Row(name='Luxury modern apartment in Dulwich Village', price='$5,372.00'),\n",
       " Row(name='Beautiful 2 BR flat in Kilburn with free parking', price='$6,000.00'),\n",
       " Row(name='Semi-detached mews house in Knightsbridge.', price='$7,007.00'),\n",
       " Row(name='Bright & Comfortable Angel Apartment', price='$9,999.00'),\n",
       " Row(name='Affordable Spacious  Room on the edge of the city', price='$6,000.00'),\n",
       " Row(name='Beautiful 3 bed refurbished apartment', price='$9,000.00'),\n",
       " Row(name='—', price='$22,824.00'),\n",
       " Row(name='Henry’s Townhouse, London', price='$6,500.00'),\n",
       " Row(name='SHORT WALK TO LONDON EYE - DOUBLE ROOM (SUR)', price='$50,000.00'),\n",
       " Row(name='SHORT WALK TO LONDON EYE - DOUBLE ROOM (SWI)', price='$9,033.00'),\n",
       " Row(name='The Presidential - 6 bed - stunning elegance', price='$6,000.00'),\n",
       " Row(name='Grosvenor Penthouse', price='$11,681.00'),\n",
       " Row(name='Walk To London Eye - Double Room (FIL)', price='$29,000.00'),\n",
       " Row(name='Resolve Apartment', price='$5,240.00'),\n",
       " Row(name='Very Large and Splendid Terrace House in London', price='$8,000.00'),\n",
       " Row(name='Twin Room Close to London Eye (RHI)', price='$50,000.00'),\n",
       " Row(name='Short Walk to London Eye (8V1)', price='$23,000.00'),\n",
       " Row(name='Foxter Properties Chelsea', price='$12,000.00'),\n",
       " Row(name='Close To London Eye', price='$8,000.00'),\n",
       " Row(name='Close To London Eye', price='$20,000.00'),\n",
       " Row(name='Close To London Eye', price='$65,000.00'),\n",
       " Row(name='Close to London Eye (BOL)', price='$58,000.00'),\n",
       " Row(name='Maida Vale, Modern 1 Bed Apt, Sleeps 4, London.', price='$5,175.00'),\n",
       " Row(name='Contemporary Oasis in Paddington II', price='$9,999.00'),\n",
       " Row(name='1. V02 Large Apartment; next to Piccadilly Circus!', price='$6,400.00'),\n",
       " Row(name='Modern Sky-High Flat In North Acton', price='$9,999.00'),\n",
       " Row(name='Spacious and Trendy Shoreditch Flat', price='$6,000.00'),\n",
       " Row(name='Zone 1 - Central London (JAM)', price='$22,000.00'),\n",
       " Row(name='Your Elite Hyde Park Retreat 2-Bedroom Luxury Flat', price='$10,890.00'),\n",
       " Row(name='CentralLondon Luxury for 5! 1Min from Paddington', price='$9,680.00'),\n",
       " Row(name='Very Close to The London Eye', price='$20,000.00'),\n",
       " Row(name='Spacious, airy penthouse with stunning view', price='$27,000.00'),\n",
       " Row(name='20% Off Monthly Business Relocation Stays Belsize', price='$15,000.00'),\n",
       " Row(name='Ultra Luxe 4 Bed flat in Mayfair', price='$6,000.00'),\n",
       " Row(name='Close to The Shard (TAI)', price='$10,001.00'),\n",
       " Row(name='London luxury.', price='$8,400.00'),\n",
       " Row(name='The Artists House', price='$15,143.00'),\n",
       " Row(name='Walk To London Eye (BLZ)', price='$30,000.00'),\n",
       " Row(name='Luxury Grade II Listed Mansion', price='$11,792.00'),\n",
       " Row(name='Modern apartment Central London', price='$8,910.00'),\n",
       " Row(name='Rustic and Contemporary Haven in Brixton', price='$9,999.00'),\n",
       " Row(name='Tranquil 2 Bedroom Apartment in East London', price='$9,999.00'),\n",
       " Row(name='Outdoor kitchen', price='$7,033.00'),\n",
       " Row(name='Retro Charm and Modern Comforts', price='$7,999.00'),\n",
       " Row(name='Charmante Wohnung mit Balkon', price='$8,429.00'),\n",
       " Row(name='Silverings', price='$9,999.00'),\n",
       " Row(name='Penthouse in the City of London', price='$9,000.00'),\n",
       " Row(name='Very Central Room - Walk to Eye', price='$58,000.00'),\n",
       " Row(name='Central Room - Walk to Eye (KR)', price='$50,000.00'),\n",
       " Row(name='Walk To London Eye', price='$5,600.00'),\n",
       " Row(name='Walk To London Eye', price='$58,000.00'),\n",
       " Row(name='The Prince Albert', price='$7,953.00'),\n",
       " Row(name='Adagio - Apartment 4 people - 1 bedroom', price='$6,537.00'),\n",
       " Row(name='Amazing Central Location (NBOL)', price='$58,000.00'),\n",
       " Row(name='Corporate ready - Combination of Flats  - Up to 56', price='$8,175.00'),\n",
       " Row(name='5 Flats in Building | Zone 1 | 20 Guests | 10 Beds', price='$7,677.00'),\n",
       " Row(name='Student Only, En-suite Room at South Bank', price='$8,000.00'),\n",
       " Row(name='Standard Double Room Near Ebury Square Gardens LON', price='$11,952.00'),\n",
       " Row(name='Ferienwohnung für 4 Personen ca. 80 m sup2 in.', price='$8,429.00'),\n",
       " Row(name='Notting Hill The One One One 3', price='$8,429.00'),\n",
       " Row(name='Notting Hill Die Eins Eins Eins 6', price='$8,429.00'),\n",
       " Row(name='Notting Hill Die Eins Eins Eins 1', price='$8,429.00'),\n",
       " Row(name='Atemberaubende Wohnung, in der Nähe von East.', price='$8,429.00'),\n",
       " Row(name='Notting Hill Die Eins Eins Eins 5', price='$8,429.00'),\n",
       " Row(name='Notting Hill Die Eins Eins Eins 4', price='$8,429.00'),\n",
       " Row(name='Ferienwohnung für 4 Personen ca. 80 m sup2 in.', price='$8,429.00'),\n",
       " Row(name='Studio Near JustPark LON', price='$11,952.00'),\n",
       " Row(name='1 Bedroom Apartment Near JustPark LON', price='$11,952.00'),\n",
       " Row(name='1 Bedroom Apartment Near Wakefield Gardens LON', price='$11,952.00'),\n",
       " Row(name=\"Stylish Earl's Court Studio Plus Patio\", price='$9,999.00'),\n",
       " Row(name='Classic Double Room Near Franks Church LON', price='$11,952.00'),\n",
       " Row(name='Luxury Hotel Style 2 bed Apartment in Notting Hill', price='$8,441.00'),\n",
       " Row(name='Luxury House near Hyde Park', price='$5,361.00')]"
      ]
     },
     "execution_count": 18,
     "metadata": {},
     "output_type": "execute_result"
    }
   ],
   "source": [
    "# 5. Get properties where the price is greater than 5000.\n",
    "# Collect result as python list.\n",
    "# First convert price from string to number\n",
    "\n",
    "listings_with_price = listings.withColumn('price_numeric', regexp_replace('price', '[$,]', '').cast('float'))\n",
    "\n",
    "res = listings_with_price.filter((listings_with_price.price_numeric > 5000)).select('name', 'price').collect()\n",
    "\n",
    "res"
   ]
  },
  {
   "cell_type": "code",
   "execution_count": 19,
   "id": "e7d02684-8233-454d-b4cf-c7776ed906f6",
   "metadata": {},
   "outputs": [
    {
     "name": "stdout",
     "output_type": "stream",
     "text": [
      "+--------------------------------------------------+-------------+-----------------+--------------------+\n",
      "|name                                              |price_numeric|number_of_reviews|review_scores_rating|\n",
      "+--------------------------------------------------+-------------+-----------------+--------------------+\n",
      "|One Bedroom Apartment                             |98.0         |24               |4.58                |\n",
      "|Refurbished Two Bedroom Apartment                 |144.0        |36               |4.64                |\n",
      "|Central London with Stunning Views!               |62.0         |532              |4.9                 |\n",
      "|Also five minutes to South Bank                   |66.0         |563              |4.63                |\n",
      "|Patio Apartment in London (Twickenham)            |73.0         |88               |4.64                |\n",
      "|Lovely 2 bedroom flat near Brixton, zone 2, London|135.0        |23               |4.77                |\n",
      "|Hackney Stylish & light 1 bedroom Victorian flat  |129.0        |152              |4.65                |\n",
      "|Boutique Room w/ Private Bath, Balcony            |70.0         |208              |4.98                |\n",
      "|Holiday London DB Room Let-on going               |72.0         |54               |4.85                |\n",
      "|Bright Chelsea  Apartment. Chelsea!               |120.0        |97               |4.8                 |\n",
      "|You are GUARANTEED to love this                   |74.0         |717              |4.87                |\n",
      "|Large double bedroom in Shoreditch w/garden       |104.0        |39               |4.9                 |\n",
      "|Bright Double + workspace in spacious Garden Flat |51.0         |246              |4.75                |\n",
      "|SPACIOUS ROOM IN CONTEMPORARY STYLE FLAT          |52.0         |71               |4.97                |\n",
      "|Room with a view, shared flat,  central  Bankside |75.0         |133              |4.69                |\n",
      "|You Will Save Money Here                          |55.0         |625              |4.89                |\n",
      "|Spacious luxury 2 bedroom apartment               |94.0         |25               |4.6                 |\n",
      "|Stylish apartment in trendy Dalston               |112.0        |36               |4.86                |\n",
      "|A people person awaits you here!                  |48.0         |78               |4.9                 |\n",
      "|Quiet Comfortable Room in Fulham                  |47.0         |253              |4.73                |\n",
      "+--------------------------------------------------+-------------+-----------------+--------------------+\n",
      "only showing top 20 rows\n"
     ]
    }
   ],
   "source": [
    "# 5. Get a list of properties with following characteristics\n",
    "# price < 150\n",
    "# more than 20 reviews\n",
    "# review_score_ratings > 4.5\n",
    "\n",
    "listings_with_price.filter(\n",
    "    (listings_with_price.price_numeric < 150) &\n",
    "    (listings_with_price.number_of_reviews > 20) &\n",
    "    (listings_with_price.review_scores_rating > 4.5)\n",
    ") \\\n",
    "    .select('name', 'price_numeric', 'number_of_reviews', 'review_scores_rating') \\\n",
    "    .show(truncate=False)"
   ]
  },
  {
   "cell_type": "code",
   "execution_count": 20,
   "id": "1084fd40-7b42-486b-b8d4-7aea759ee158",
   "metadata": {},
   "outputs": [
    {
     "name": "stdout",
     "output_type": "stream",
     "text": [
      "+--------------------------------------------------+-------------+---------+\n",
      "|name                                              |price_numeric|bathrooms|\n",
      "+--------------------------------------------------+-------------+---------+\n",
      "|Huge Four Bedroom Apartment                       |297.0        |2.0      |\n",
      "|One Bedroom Apartment                             |98.0         |1.0      |\n",
      "|Two Bedroom Newly Refurbished Apartment           |148.0        |1.0      |\n",
      "|Refurbished Two Bedroom Apartment                 |144.0        |1.0      |\n",
      "|Spacious refurbished 2 bedroom apt with balcony   |157.0        |2.0      |\n",
      "|Two Bedrooms Garden Maisonette                    |148.0        |2.0      |\n",
      "|One Bedroom Garden Apartment                      |120.0        |1.0      |\n",
      "|Four Bedroom Garden Apartment                     |216.0        |2.0      |\n",
      "|Huge Three Bedroom Flat with parking and terrace  |238.0        |2.0      |\n",
      "|Central London with Stunning Views!               |62.0         |1.5      |\n",
      "|Also five minutes to South Bank                   |66.0         |1.5      |\n",
      "|Patio Apartment in London (Twickenham)            |73.0         |1.0      |\n",
      "|2 Bed Edwardian Maisonette with Sunny Garden      |134.0        |1.0      |\n",
      "|Lovely 2 bedroom flat near Brixton, zone 2, London|135.0        |2.0      |\n",
      "|Hackney Stylish & light 1 bedroom Victorian flat  |129.0        |1.0      |\n",
      "|Boutique Room w/ Private Bath, Balcony            |70.0         |1.0      |\n",
      "|Holiday London DB Room Let-on going               |72.0         |1.0      |\n",
      "|Bright Chelsea  Apartment. Chelsea!               |120.0        |1.0      |\n",
      "|Very Central Modern 3-Bed/2 Bath By Oxford St W1  |510.0        |2.0      |\n",
      "|Battersea live/work artist house                  |213.0        |1.5      |\n",
      "+--------------------------------------------------+-------------+---------+\n",
      "only showing top 20 rows\n"
     ]
    }
   ],
   "source": [
    "# 6. Get a list of properties with following characteristics\n",
    "# price < 150 or more than one bathroom\n",
    "\n",
    "listings_with_price.filter(\n",
    "    (listings_with_price.price_numeric < 150) |\n",
    "    (listings_with_price.bathrooms > 1)\n",
    ").select(\"name\", \"price_numeric\", \"bathrooms\").show(truncate=False)"
   ]
  },
  {
   "cell_type": "code",
   "execution_count": 21,
   "id": "5b786a80-515c-47af-89f9-6d86a0a6429a",
   "metadata": {},
   "outputs": [
    {
     "name": "stderr",
     "output_type": "stream",
     "text": [
      "[Stage 31:>                                                         (0 + 1) / 1]"
     ]
    },
    {
     "name": "stdout",
     "output_type": "stream",
     "text": [
      "+------------------+\n",
      "|max(price_numeric)|\n",
      "+------------------+\n",
      "|           74100.0|\n",
      "+------------------+\n",
      "\n"
     ]
    },
    {
     "name": "stderr",
     "output_type": "stream",
     "text": [
      "                                                                                "
     ]
    }
   ],
   "source": [
    "# 7. Get the highest listing price in the dataset\n",
    "from pyspark.sql.functions import max\n",
    "\n",
    "listings_with_price.select(max('price_numeric')).show()"
   ]
  },
  {
   "cell_type": "code",
   "execution_count": 22,
   "id": "96ddefd2-6f01-46e4-89ec-b00f0ef48d8e",
   "metadata": {},
   "outputs": [
    {
     "name": "stderr",
     "output_type": "stream",
     "text": [
      "[Stage 37:>                                                         (0 + 1) / 1]"
     ]
    },
    {
     "name": "stdout",
     "output_type": "stream",
     "text": [
      "+--------------------+----------+\n",
      "|                name|     price|\n",
      "+--------------------+----------+\n",
      "|Bright & airy Dou...|$74,100.00|\n",
      "+--------------------+----------+\n",
      "\n"
     ]
    },
    {
     "name": "stderr",
     "output_type": "stream",
     "text": [
      "                                                                                "
     ]
    }
   ],
   "source": [
    "# 8. Get the name and price of a property with highest number of reviews per month\n",
    "res = listings_with_price.select(max('price_numeric').alias('max_price')).collect()\n",
    "max_price = res[0]['max_price']\n",
    "listings_with_price \\\n",
    "    .filter(listings_with_price.price_numeric == max_price) \\\n",
    "    .select('name', 'price') \\\n",
    "    .show()"
   ]
  },
  {
   "cell_type": "code",
   "execution_count": 23,
   "id": "d92cc22e-56f5-458b-93b3-c60d4b7c5588",
   "metadata": {},
   "outputs": [
    {
     "name": "stderr",
     "output_type": "stream",
     "text": [
      "                                                                                "
     ]
    },
    {
     "data": {
      "text/plain": [
       "16659"
      ]
     },
     "execution_count": 23,
     "metadata": {},
     "output_type": "execute_result"
    }
   ],
   "source": [
    "# 9. Get the number of hosts in the dataset\n",
    "listings.select('host_name').distinct().count()"
   ]
  },
  {
   "cell_type": "code",
   "execution_count": 24,
   "id": "9f1e19a2-b4f6-46e7-837f-b2df18865a24",
   "metadata": {},
   "outputs": [
    {
     "name": "stdout",
     "output_type": "stream",
     "text": [
      "+--------------------------------------------------+------------+\n",
      "|name                                              |first_review|\n",
      "+--------------------------------------------------+------------+\n",
      "|Close to Wimbledon All England Tennis -huge double|2024-08-11  |\n",
      "|Bridgerton inspired cottage core apartment        |2024-09-14  |\n",
      "|one Double bed room with en-suite facilities      |2024-03-21  |\n",
      "|Sm double room  with own bathroom                 |2024-06-04  |\n",
      "|Superlux flat in Knightsbridge                    |2024-01-01  |\n",
      "|Central, modern pied-a-terre                      |2024-11-29  |\n",
      "|Stunning Bright Chelsea 2BR flat                  |2024-09-21  |\n",
      "|Victorian 2-bedroom upstairs flat sleeps 4        |2024-12-09  |\n",
      "|The Pink House, Notting Hill                      |2024-07-14  |\n",
      "|Stylish garden flat in Hackney                    |2024-09-15  |\n",
      "+--------------------------------------------------+------------+\n",
      "only showing top 10 rows\n"
     ]
    }
   ],
   "source": [
    "# 10. Get listings with a first review in 2024\n",
    "\n",
    "from pyspark.sql.functions import year\n",
    "\n",
    "listings \\\n",
    "    .filter(year(listings.first_review) == 2024) \\\n",
    "    .select('name', 'first_review') \\\n",
    "    .show(10, truncate=False)"
   ]
  },
  {
   "cell_type": "code",
   "execution_count": null,
   "id": "7529eaad-ae58-408a-978b-59b5c8a5c15c",
   "metadata": {},
   "outputs": [],
   "source": []
  }
 ],
 "metadata": {
  "kernelspec": {
   "display_name": "Python 3 (ipykernel)",
   "language": "python",
   "name": "python3"
  },
  "language_info": {
   "codemirror_mode": {
    "name": "ipython",
    "version": 3
   },
   "file_extension": ".py",
   "mimetype": "text/x-python",
   "name": "python",
   "nbconvert_exporter": "python",
   "pygments_lexer": "ipython3",
   "version": "3.13.3"
  }
 },
 "nbformat": 4,
 "nbformat_minor": 5
}
