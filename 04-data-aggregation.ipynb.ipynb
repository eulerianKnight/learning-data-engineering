{
 "cells": [
  {
   "cell_type": "markdown",
   "id": "090d8ef0-c84f-40a8-b453-8ff566061227",
   "metadata": {},
   "source": [
    "# Data Aggregation in PySpark"
   ]
  },
  {
   "cell_type": "code",
   "execution_count": 1,
   "id": "ad5448f2-ac55-4e89-bac6-5e72c9418931",
   "metadata": {},
   "outputs": [
    {
     "name": "stderr",
     "output_type": "stream",
     "text": [
      "25/07/15 20:58:45 WARN SparkSession: Using an existing Spark session; only runtime SQL configurations will take effect.\n"
     ]
    }
   ],
   "source": [
    "from pyspark.sql import SparkSession\n",
    "\n",
    "spark = SparkSession.builder.appName(\"Data Aggregation\").getOrCreate()"
   ]
  },
  {
   "cell_type": "code",
   "execution_count": 2,
   "id": "0a1eefa2-90b2-4642-a972-516c852f48ea",
   "metadata": {},
   "outputs": [
    {
     "name": "stderr",
     "output_type": "stream",
     "text": [
      "                                                                                "
     ]
    }
   ],
   "source": [
    "listings = spark.read.csv(\n",
    "    \"data/listings.csv.gz\", \n",
    "    header=True, \n",
    "    inferSchema=True, \n",
    "    sep=\",\", \n",
    "    quote='\"', \n",
    "    escape='\"', \n",
    "    multiLine=True,\n",
    "    mode=\"PERMISSIVE\")"
   ]
  },
  {
   "cell_type": "code",
   "execution_count": 3,
   "id": "e4bca138-f07b-4295-a885-c2a452f1348b",
   "metadata": {},
   "outputs": [
    {
     "name": "stderr",
     "output_type": "stream",
     "text": [
      "[Stage 2:>                                                          (0 + 1) / 1]"
     ]
    },
    {
     "name": "stdout",
     "output_type": "stream",
     "text": [
      "+----------------------------------+-----+\n",
      "|property_type                     |count|\n",
      "+----------------------------------+-----+\n",
      "|Private room in lighthouse        |2    |\n",
      "|Private room in loft              |154  |\n",
      "|Private room in earthen home      |2    |\n",
      "|Entire chalet                     |5    |\n",
      "|Earthen home                      |1    |\n",
      "|Farm stay                         |4    |\n",
      "|Entire rental unit                |40799|\n",
      "|Shared room in hostel             |61   |\n",
      "|Shared room                       |1    |\n",
      "|Private room in condo             |3255 |\n",
      "|Room in boutique hotel            |229  |\n",
      "|Private room in religious building|4    |\n",
      "|Room in bed and breakfast         |18   |\n",
      "|Private room in casa particular   |62   |\n",
      "|Private room in bungalow          |63   |\n",
      "|Entire cabin                      |50   |\n",
      "|Entire guesthouse                 |226  |\n",
      "|Hut                               |4    |\n",
      "|Private room in nature lodge      |4    |\n",
      "|Entire guest suite                |175  |\n",
      "+----------------------------------+-----+\n",
      "only showing top 20 rows\n"
     ]
    },
    {
     "name": "stderr",
     "output_type": "stream",
     "text": [
      "                                                                                "
     ]
    }
   ],
   "source": [
    "listings.groupby(listings.property_type).count().show(truncate=False)"
   ]
  },
  {
   "cell_type": "code",
   "execution_count": 4,
   "id": "ce497d37-cb37-4f41-80c6-837bd72f4162",
   "metadata": {},
   "outputs": [
    {
     "name": "stderr",
     "output_type": "stream",
     "text": [
      "[Stage 5:>                                                          (0 + 1) / 1]"
     ]
    },
    {
     "name": "stdout",
     "output_type": "stream",
     "text": [
      "+----------------------------------+-----+\n",
      "|property_type                     |count|\n",
      "+----------------------------------+-----+\n",
      "|Entire rental unit                |40799|\n",
      "|Private room in rental unit       |14573|\n",
      "|Private room in home              |11826|\n",
      "|Entire home                       |8938 |\n",
      "|Entire condo                      |8438 |\n",
      "|Private room in condo             |3255 |\n",
      "|Entire serviced apartment         |1840 |\n",
      "|Private room in townhouse         |1189 |\n",
      "|Entire townhouse                  |1069 |\n",
      "|Room in hotel                     |1042 |\n",
      "|Private room in bed and breakfast |495  |\n",
      "|Private room in guesthouse        |371  |\n",
      "|Entire loft                       |339  |\n",
      "|Room in boutique hotel            |229  |\n",
      "|Entire guesthouse                 |226  |\n",
      "|Entire guest suite                |175  |\n",
      "|Private room in guest suite       |170  |\n",
      "|Private room in loft              |154  |\n",
      "|Private room in serviced apartment|154  |\n",
      "|Private room                      |103  |\n",
      "+----------------------------------+-----+\n",
      "only showing top 20 rows\n"
     ]
    },
    {
     "name": "stderr",
     "output_type": "stream",
     "text": [
      "                                                                                "
     ]
    }
   ],
   "source": [
    "# Using .agg\n",
    "import pyspark.sql.functions as F\n",
    "\n",
    "listings \\\n",
    "    .groupby(listings.property_type) \\\n",
    "    .agg(\n",
    "        F.count('property_type').alias('count')\n",
    "    ) \\\n",
    "    .orderBy('count', ascending=False) \\\n",
    "    .show(truncate=False)"
   ]
  },
  {
   "cell_type": "code",
   "execution_count": 5,
   "id": "164b58c0-57db-4048-97b3-dad0b401bb7d",
   "metadata": {},
   "outputs": [
    {
     "name": "stderr",
     "output_type": "stream",
     "text": [
      "                                                                                "
     ]
    }
   ],
   "source": [
    "reviews = spark.read.csv(\n",
    "    \"data/reviews.csv.gz\", \n",
    "    header=True, \n",
    "    inferSchema=True, \n",
    "    sep=\",\", \n",
    "    quote='\"', \n",
    "    escape='\"', \n",
    "    multiLine=True, \n",
    "    mode=\"PERMISSIVE\")"
   ]
  },
  {
   "cell_type": "code",
   "execution_count": 6,
   "id": "9070cc05-9b08-4c88-abe2-9df1b1612b39",
   "metadata": {},
   "outputs": [
    {
     "name": "stdout",
     "output_type": "stream",
     "text": [
      "StructField('listing_id', LongType(), True)\n",
      "StructField('id', LongType(), True)\n",
      "StructField('date', DateType(), True)\n",
      "StructField('reviewer_id', IntegerType(), True)\n",
      "StructField('reviewer_name', StringType(), True)\n",
      "StructField('comments', StringType(), True)\n"
     ]
    }
   ],
   "source": [
    "for field in reviews.schema:\n",
    "    print(field)"
   ]
  },
  {
   "cell_type": "code",
   "execution_count": 7,
   "id": "fb5f08c7-da2d-4b67-bdbb-09ab3b705ecd",
   "metadata": {},
   "outputs": [],
   "source": [
    "listings_reviews = listings.join(\n",
    "    reviews, \n",
    "    listings.id == reviews.listing_id, \n",
    "    how=\"inner\"\n",
    ")"
   ]
  },
  {
   "cell_type": "code",
   "execution_count": 8,
   "id": "590515d5-263a-4ac4-ab49-cf8033fbc77e",
   "metadata": {},
   "outputs": [
    {
     "name": "stderr",
     "output_type": "stream",
     "text": [
      "[Stage 11:>                                                         (0 + 1) / 1]"
     ]
    },
    {
     "name": "stdout",
     "output_type": "stream",
     "text": [
      "+--------+--------------------------------------------------+-----------+\n",
      "|id      |name                                              |num_reviews|\n",
      "+--------+--------------------------------------------------+-----------+\n",
      "|47408549|Double Room+ Ensuite                              |1855       |\n",
      "|30760930|Double Garden View room - London House Hotel***   |1682       |\n",
      "|43120947|Private double room with en suite facilities      |1615       |\n",
      "|19670926|Locke Studio Apartment at Leman Locke             |1436       |\n",
      "|45006692|Budget Double Room In Colliers Hotel.             |1433       |\n",
      "|1436172 |Cosy Double in Kings Cross Houseshare nr Eurostar |1195       |\n",
      "|2126708 |London's best transport hub 5 mins walk! Safe too!|1122       |\n",
      "|1436177 |En-suite Double in Kings Cross Houseshare Eurostar|1005       |\n",
      "|47438714|KX Basic- Small Double- shared bathroom           |978        |\n",
      "|3855375 |Double in Kings Cross Houseshare nr Eurostar      |973        |\n",
      "|46233904|Superior Studio, avg size 23.5 msq                |964        |\n",
      "|2659707 |Large Room + Private Bathroom, E3.                |963        |\n",
      "|4748665 |Single bedroom near London Stratford              |917        |\n",
      "|27833488|S - Heathrow Airport Terminal 2 3 4 5 Hatton Cross|914        |\n",
      "|42081759|Micro Studio at Locke at Broken Wharf             |899        |\n",
      "|5266466 |Large London Room, Ensuite Bathroom,TV & Breakfast|885        |\n",
      "|2025844 |Family Friendly Central London Flat               |840        |\n",
      "|4332039 |Single bedroom in old East London                 |830        |\n",
      "|4461052 |Bright room with private bath by London central!  |804        |\n",
      "|107051  |JESSIE the narrowboat in Little Venice            |775        |\n",
      "+--------+--------------------------------------------------+-----------+\n",
      "only showing top 20 rows\n"
     ]
    },
    {
     "name": "stderr",
     "output_type": "stream",
     "text": [
      "                                                                                "
     ]
    }
   ],
   "source": [
    "reviews_per_listing = listings_reviews \\\n",
    "    .groupby(listings.id, listings.name) \\\n",
    "    .agg(\n",
    "        F.count(reviews.id).alias('num_reviews')\n",
    "    ) \\\n",
    "    .orderBy('num_reviews', ascending=False) \\\n",
    "    .show(truncate=False)"
   ]
  },
  {
   "cell_type": "markdown",
   "id": "cc779d5d-a997-41e4-bd45-2324b9a589c4",
   "metadata": {},
   "source": [
    "## Exercise"
   ]
  },
  {
   "cell_type": "code",
   "execution_count": 10,
   "id": "f4da48d4-d259-4146-83c8-620856f93a35",
   "metadata": {},
   "outputs": [
    {
     "name": "stderr",
     "output_type": "stream",
     "text": [
      "[Stage 17:>                                                         (0 + 1) / 1]"
     ]
    },
    {
     "name": "stdout",
     "output_type": "stream",
     "text": [
      "+----------+-----+\n",
      "|listing_id|count|\n",
      "+----------+-----+\n",
      "|     78606|    2|\n",
      "|    444886|   12|\n",
      "|    466017|   28|\n",
      "|   2736493|    4|\n",
      "|   2557853|   89|\n",
      "|   3132302|    3|\n",
      "|   3917692|    1|\n",
      "|   3734796|    5|\n",
      "|   3997029|    7|\n",
      "|   4361078|   70|\n",
      "+----------+-----+\n",
      "only showing top 10 rows\n"
     ]
    },
    {
     "name": "stderr",
     "output_type": "stream",
     "text": [
      "                                                                                "
     ]
    }
   ],
   "source": [
    "# Count the number of reviews per listing using the reviews dataset\n",
    "reviews_per_listing = reviews \\\n",
    "    .groupby(reviews.listing_id) \\\n",
    "    .count() \\\n",
    "    .show(10)"
   ]
  },
  {
   "cell_type": "code",
   "execution_count": 11,
   "id": "b202a329-ad33-4418-80aa-b60a389d59a5",
   "metadata": {},
   "outputs": [
    {
     "name": "stderr",
     "output_type": "stream",
     "text": [
      "[Stage 20:>                                                         (0 + 1) / 1]"
     ]
    },
    {
     "name": "stdout",
     "output_type": "stream",
     "text": [
      "+--------+--------------+--------------------+\n",
      "| host_id|total_listings|average_review_score|\n",
      "+--------+--------------+--------------------+\n",
      "| 2358441|             1|                4.86|\n",
      "| 2876123|             2|  4.9399999999999995|\n",
      "| 2038199|             1|                 5.0|\n",
      "| 4157822|             2|               4.925|\n",
      "|  719504|             1|                4.96|\n",
      "| 7950720|             1|                4.86|\n",
      "| 6572018|             1|                 5.0|\n",
      "|12122942|             1|                4.93|\n",
      "|13851928|             1|                4.97|\n",
      "|13739634|             2|                4.74|\n",
      "+--------+--------------+--------------------+\n",
      "only showing top 10 rows\n"
     ]
    },
    {
     "name": "stderr",
     "output_type": "stream",
     "text": [
      "                                                                                "
     ]
    }
   ],
   "source": [
    "# 2. Compute the total number of listings and average review score per host\n",
    "from pyspark.sql.functions import avg, count\n",
    "\n",
    "host_stats = listings \\\n",
    "    .filter(listings.review_scores_rating.isNotNull()) \\\n",
    "    .groupBy('host_id') \\\n",
    "    .agg(\n",
    "        count('id').alias('total_listings'), \n",
    "        avg('review_scores_rating').alias('average_review_score')\n",
    "    ) \\\n",
    "    .show(10)"
   ]
  },
  {
   "cell_type": "code",
   "execution_count": 14,
   "id": "3421d8ef-9fa7-4ab6-a045-7b8ff9d72253",
   "metadata": {},
   "outputs": [
    {
     "name": "stderr",
     "output_type": "stream",
     "text": [
      "[Stage 26:>                                                         (0 + 1) / 1]"
     ]
    },
    {
     "name": "stdout",
     "output_type": "stream",
     "text": [
      "+----------+-----+\n",
      "|listing_id|count|\n",
      "+----------+-----+\n",
      "|  47408549| 1855|\n",
      "|  30760930| 1682|\n",
      "|  43120947| 1615|\n",
      "|  19670926| 1436|\n",
      "|  45006692| 1433|\n",
      "+----------+-----+\n",
      "\n"
     ]
    },
    {
     "name": "stderr",
     "output_type": "stream",
     "text": [
      "                                                                                "
     ]
    }
   ],
   "source": [
    "# 3: Find the top ten listings with the highest number of reviews\n",
    "reviews \\\n",
    "    .groupBy('listing_id') \\\n",
    "    .count() \\\n",
    "    .orderBy('count', ascending=False) \\\n",
    "    .limit(5) \\\n",
    "    .show()"
   ]
  },
  {
   "cell_type": "code",
   "execution_count": 15,
   "id": "b88c4d84-e3ea-4626-b8a0-3f9674a64b8a",
   "metadata": {},
   "outputs": [
    {
     "name": "stderr",
     "output_type": "stream",
     "text": [
      "                                                                                "
     ]
    },
    {
     "name": "stdout",
     "output_type": "stream",
     "text": [
      "+-----+-----------------------------------+-------------+---------------------------------------------------------------------------------------------------------------------------------------------------------------------------------------------------------------------------------------------------------------------------------------------------------------------------------------------------------------------------------------------------------------------------------------------------------------------------------------------------------------------------------------------------------------------------------------------------------------------------------------------------------------------------------------------------------------------------------------------------------------------------------------------------------------------------------------------------------------------------------------------------------+\n",
      "|id   |name                               |reviewer_name|comments                                                                                                                                                                                                                                                                                                                                                                                                                                                                                                                                                                                                                                                                                                                                                                                                                                                                                                 |\n",
      "+-----+-----------------------------------+-------------+---------------------------------------------------------------------------------------------------------------------------------------------------------------------------------------------------------------------------------------------------------------------------------------------------------------------------------------------------------------------------------------------------------------------------------------------------------------------------------------------------------------------------------------------------------------------------------------------------------------------------------------------------------------------------------------------------------------------------------------------------------------------------------------------------------------------------------------------------------------------------------------------------------+\n",
      "|13913|Holiday London DB Room Let-on going|Michael      |My girlfriend and I hadn't known Alina before we took the leap of faith to rent her flat. Alina just couldn't be nicer! Her flat is comfortable, homey, very sunny, and quiet at night. Her diverse neighborhood rocks! It's full of excellent eateries of varying ethnicities, good supermarkets, etc., etc. Her place is about a 10-minute walk to the Finsbury Park tube stop, and there are also several buses that ply Stroud Green Road. The Piccadilly and Victoria tube lines that serve Finsbury Park are very dependable and come frequently. My only caveat is if you are unwilling to take 20- to 40-minute commutes to downtown London attractions and money is no object, you will prefer to stay downtown. But for anyone else, you will love your experience of living in a real, untouristy neighborhood and dealing with a generous, warm-hearted woman I'm happy to call a new friend.|\n",
      "|13913|Holiday London DB Room Let-on going|Mathias      |Alina was a really good host. The flat is clean and tidy - and really close to Finsbury Park station which is quite close to Central London. I recommend Alina to everyone.                                                                                                                                                                                                                                                                                                                                                                                                                                                                                                                                                                                                                                                                                                                              |\n",
      "|13913|Holiday London DB Room Let-on going|Kristin      |Alina is an amazing host. She made me feel right at home. It was more like hanging out with a friend than a complete stranger. She's very sweet and makes a mean espresso. There are tons of places right around flat to eat and market is close in case you want to cook. I would definitely stay here again if I was in London. Thanks Alina you're awesome.                                                                                                                                                                                                                                                                                                                                                                                                                                                                                                                                           |\n",
      "|13913|Holiday London DB Room Let-on going|Camilla      |Alina's place is so nice, the room is big and clean, and the bed is huge. Alina is a great host, and she made sure I had everything I needed, for instance she had put clean towels on the bed for me:) I felt very at home in her place. Aside from that she really helped me out with a lot of things, and even helped me find a permanent place to live in London. So overall a great place to stay with a great girl.                                                                                                                                                                                                                                                                                                                                                                                                                                                                                |\n",
      "|13913|Holiday London DB Room Let-on going|Jorik        |Nice location in Islington area, good for short business trip. House is OK, host is very friendly.                                                                                                                                                                                                                                                                                                                                                                                                                                                                                                                                                                                                                                                                                                                                                                                                       |\n",
      "|13913|Holiday London DB Room Let-on going|Vera         |I'm very happy to have been Alina's guest! We've had great time in London and enjoyed our stay. Alina is a great host, we felt us so welcomed by her! \\r<br/>Alina's house location is very convenient, it's only 5 min walk to Finsbury Park tube station and also a direct (Picadilly) line to Heathrow Airport (in case yu have an early departure you can use the opportunity to sleep a bit in the train :) \\r<br/>The flat itself is very nice and clean and comfortable, especially the double-bed with new mattress, I slept like a newborn :) And also the red sofa on the small roof terrace is great, I enjoyed the last night London sky!\\r<br/>To all who is going to visit London I highly reccomend Alina and her beautiful house to stay in. Alina, thank you so much and I hope to see you one day again!                                                                               |\n",
      "|13913|Holiday London DB Room Let-on going|Honi         |I stayed with Alina in her flat in London for a week. It's a wonderful home with a warm feeling and everything you need. Alina went out of her way to make sure I was comfortable and we shared some great chats and meals. I recommend Alina's place to anyone looking for a home for a while in London, and look forward to seeing Alina again.                                                                                                                                                                                                                                                                                                                                                                                                                                                                                                                                                        |\n",
      "|13913|Holiday London DB Room Let-on going|Alessandro   |Alina was a perfect guest and her flat is absolutely wonderful. Highly recommended. \\r<br/>                                                                                                                                                                                                                                                                                                                                                                                                                                                                                                                                                                                                                                                                                                                                                                                                              |\n",
      "|13913|Holiday London DB Room Let-on going|Oleh         |Alina's flat is exceptional one.  \\r<br/>I have to say i have never been to such an atmospheric place like her flat.\\r<br/>Plenty of stunning art items around and all of these pictures and drawings are magnificent and inspirational.\\r<br/>The kitchen is AMAZING. Huge window,  very bright and cozy  furnished with great equipment.\\r<br/>\\r<br/>I would highly recommend this flat, \\r<br/>i have had numerous short term rent in rent\\r<br/>and this one is number one to me.\\r<br/>\\r<br/>\\r<br/>\\r<br/>                                                                                                                                                                                                                                                                                                                                                                                       |\n",
      "|13913|Holiday London DB Room Let-on going|Mo           |The House is a piece of Art , there are beautiful portraits everywhere ,  so close to the tube station , on piccaddily and Victoria lines , the host alina is very friendly , welcoming , and polite person , highly recommended                                                                                                                                                                                                                                                                                                                                                                                                                                                                                                                                                                                                                                                                         |\n",
      "|13913|Holiday London DB Room Let-on going|A            |Was great base for my London visit and great support to update me about things to do. l felt very much welcome. Thanks again.                                                                                                                                                                                                                                                                                                                                                                                                                                                                                                                                                                                                                                                                                                                                                                            |\n",
      "|13913|Holiday London DB Room Let-on going|Daniel       |Alina was an amazing host, simply brilliant. Always available and kind, super kind! I miss our discussions in front of coffee or breakfast. Stay in touch!                                                                                                                                                                                                                                                                                                                                                                                                                                                                                                                                                                                                                                                                                                                                               |\n",
      "|13913|Holiday London DB Room Let-on going|Belinda      |Lovely relaxed place to stay. Very friendly and thoughtful host would definitely stay again. Very short walk from tube very safe and diverse area. Would definitely stay again and would recommend going to Bar Faltering Fullback for a drink in a local bar                                                                                                                                                                                                                                                                                                                                                                                                                                                                                                                                                                                                                                            |\n",
      "|13913|Holiday London DB Room Let-on going|Charles      |Alina's place is cosy, convenient, and full of eclectic artwork,  and furnishings made by herself personally. She met me at the door and instantly made me feel at home. Entrance is on a major road but the flat is set back so there is very little noise from the street.                                                                                                                                                                                                                                                                                                                                                                                                                                                                                                                                                                                                                             |\n",
      "|13913|Holiday London DB Room Let-on going|Andrew       |Alina, was very quick to respond. Thoughtful and accommodating. Would definitely recommend.                                                                                                                                                                                                                                                                                                                                                                                                                                                                                                                                                                                                                                                                                                                                                                                                              |\n",
      "|13913|Holiday London DB Room Let-on going|Bart         |Alina is an amazing host who welcomed me warmly and was always up for a talk. Her place is in a nice neighborhood with lots of great restaurants around.                                                                                                                                                                                                                                                                                                                                                                                                                                                                                                                                                                                                                                                                                                                                                 |\n",
      "|13913|Holiday London DB Room Let-on going|John         |Alina is a very relaxed and friendly host who made me completely welcome.  Whilst the room fronted the main road there was no noise and a comfortable bed made for a great night's sleep.  The location is great with so many bars and restaurants on the doorstep.                                                                                                                                                                                                                                                                                                                                                                                                                                                                                                                                                                                                                                      |\n",
      "|13913|Holiday London DB Room Let-on going|Philip       |Felt at home - Alina is an excellent host - very friendly - makes you feel wanted not just tolerated - many thanks                                                                                                                                                                                                                                                                                                                                                                                                                                                                                                                                                                                                                                                                                                                                                                                       |\n",
      "|13913|Holiday London DB Room Let-on going|Ania         |Alina’s place is great! It’s very stylish and cosy at the same time. She is a great host, quick at responding and very accommodating. I would definitely stay at Alina’s again.                                                                                                                                                                                                                                                                                                                                                                                                                                                                                                                                                                                                                                                                                                                          |\n",
      "|13913|Holiday London DB Room Let-on going|Samuel       |Outstanding host. Got along great.                                                                                                                                                                                                                                                                                                                                                                                                                                                                                                                                                                                                                                                                                                                                                                                                                                                                       |\n",
      "+-----+-----------------------------------+-------------+---------------------------------------------------------------------------------------------------------------------------------------------------------------------------------------------------------------------------------------------------------------------------------------------------------------------------------------------------------------------------------------------------------------------------------------------------------------------------------------------------------------------------------------------------------------------------------------------------------------------------------------------------------------------------------------------------------------------------------------------------------------------------------------------------------------------------------------------------------------------------------------------------------+\n",
      "only showing top 20 rows\n"
     ]
    }
   ],
   "source": [
    "# 5. Get a data frame with the folloing four columns:\n",
    "# * Listing's ID\n",
    "# * Listing's name\n",
    "# * Reviewer's name\n",
    "# * Review's comment\n",
    "\n",
    "listings.join(reviews, listings.id == reviews.listing_id, 'inner') \\\n",
    "    .select(listings.id, 'name', 'reviewer_name', 'comments') \\\n",
    "    .show(truncate=False)"
   ]
  },
  {
   "cell_type": "code",
   "execution_count": 16,
   "id": "7c95a1eb-84b3-49a9-90ad-52452c873c1f",
   "metadata": {},
   "outputs": [
    {
     "name": "stderr",
     "output_type": "stream",
     "text": [
      "[Stage 32:>                                                         (0 + 1) / 1]"
     ]
    },
    {
     "name": "stdout",
     "output_type": "stream",
     "text": [
      "+------------------+----------------------+-------------+\n",
      "|        listing_id|average_comment_length|reviews_count|\n",
      "+------------------+----------------------+-------------+\n",
      "|618608352812465378|    1300.1666666666667|            6|\n",
      "|          28508447|    1089.3333333333333|            6|\n",
      "|627425975703032358|     951.7777777777778|            9|\n",
      "|           2197681|                 939.2|            5|\n",
      "|          13891813|                 905.0|            5|\n",
      "|            979753|     893.9230769230769|           13|\n",
      "|630150178279666225|     890.7272727272727|           11|\n",
      "|           8856894|     890.1666666666666|            6|\n",
      "|          29469389|                 885.0|            6|\n",
      "|          22524075|                 885.0|            5|\n",
      "|           5555679|     878.7169811320755|          106|\n",
      "|          33385444|                 848.0|            5|\n",
      "|            565214|     834.0833333333334|           12|\n",
      "|          53493254|                 831.0|            7|\n",
      "|          12646480|                 819.6|            5|\n",
      "|          17997858|               816.875|            8|\n",
      "|           8574525|     813.6666666666666|            6|\n",
      "|          38664252|     805.8333333333334|            6|\n",
      "|          16308170|     799.6666666666666|            6|\n",
      "|546424544012965343|               772.625|            8|\n",
      "+------------------+----------------------+-------------+\n",
      "only showing top 20 rows\n"
     ]
    },
    {
     "name": "stderr",
     "output_type": "stream",
     "text": [
      "                                                                                "
     ]
    }
   ],
   "source": [
    "# 6. Get Top Five Listings with the highest average review comment length.\n",
    "# Only return listings with at at least 5 reviews\n",
    "\n",
    "from pyspark.sql.functions import length, avg, count\n",
    "\n",
    "reviews_with_comment_length = reviews.withColumn('comment_length', length('comments'))\n",
    "reviews_with_comment_length \\\n",
    "    .join(listings, reviews_with_comment_length.listing_id == listings.id, 'inner') \\\n",
    "    .groupBy('listing_id').agg(\n",
    "        avg(reviews_with_comment_length.comment_length).alias('average_comment_length'), \n",
    "        count(reviews_with_comment_length.id).alias('reviews_count')\n",
    "    ) \\\n",
    "    .filter('reviews_count >= 5') \\\n",
    "    .orderBy('average_comment_length', ascending=False) \\\n",
    "    .show()"
   ]
  },
  {
   "cell_type": "code",
   "execution_count": 18,
   "id": "e1c17aa4-02df-4f3c-a816-dc456df1d33e",
   "metadata": {},
   "outputs": [
    {
     "name": "stderr",
     "output_type": "stream",
     "text": [
      "[Stage 36:>                                                         (0 + 1) / 1]"
     ]
    },
    {
     "name": "stdout",
     "output_type": "stream",
     "text": [
      "+------------------------------------------------+\n",
      "|name                                            |\n",
      "+------------------------------------------------+\n",
      "|ChiqDoube Room in PrivateAppartment             |\n",
      "|ROOM TO RENT IN THE OLYMPIC PERIOD              |\n",
      "|4 bed Beautiful west london home                |\n",
      "|London, Hoxton. Nice, 2 bedroom, 7th floor flat.|\n",
      "|Bright Dbl/Nr/ Excellnt Transp                  |\n",
      "|Stunning Shared Penthouse Apartment             |\n",
      "|The Old Coach House (Olympics)                  |\n",
      "|Well furnished room (Olympics site)             |\n",
      "|Studio 20min Walk from Olympic City             |\n",
      "|Luxury single room                              |\n",
      "|Contemporary house London E4                    |\n",
      "|A lovely one bedroom garden flat!!              |\n",
      "|Coming to London for the Olympics?              |\n",
      "|Lovely double room + own bathroom               |\n",
      "|Double Room close to Olympic Park!              |\n",
      "|Double bedroom near Olympic Park                |\n",
      "|Gorgeous characterful flat-Olympics             |\n",
      "|SPARE ROOM TO LET DURING OLYMPICS               |\n",
      "|Your Studio Flat in London-Olympics             |\n",
      "|1 bedroom available, kensal rise                |\n",
      "+------------------------------------------------+\n",
      "only showing top 20 rows\n"
     ]
    },
    {
     "name": "stderr",
     "output_type": "stream",
     "text": [
      "                                                                                "
     ]
    }
   ],
   "source": [
    "# 7. Using \"join\" operator find listings without reviews\n",
    "\n",
    "joined_df = listings.join(\n",
    "    reviews, \n",
    "    listings.id == reviews.listing_id, \n",
    "    how='left_outer'\n",
    ")\n",
    "\n",
    "joined_df \\\n",
    "    .filter(reviews.id.isNull()) \\\n",
    "    .select('name') \\\n",
    "    .show(truncate=False)"
   ]
  },
  {
   "cell_type": "code",
   "execution_count": null,
   "id": "339a3cb6-c5fe-4860-ae7f-744f0421de42",
   "metadata": {},
   "outputs": [],
   "source": []
  }
 ],
 "metadata": {
  "kernelspec": {
   "display_name": "Python 3 (ipykernel)",
   "language": "python",
   "name": "python3"
  },
  "language_info": {
   "codemirror_mode": {
    "name": "ipython",
    "version": 3
   },
   "file_extension": ".py",
   "mimetype": "text/x-python",
   "name": "python",
   "nbconvert_exporter": "python",
   "pygments_lexer": "ipython3",
   "version": "3.13.3"
  }
 },
 "nbformat": 4,
 "nbformat_minor": 5
}
