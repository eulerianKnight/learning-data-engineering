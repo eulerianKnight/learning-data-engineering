{
 "cells": [
  {
   "cell_type": "code",
   "execution_count": 1,
   "id": "858bd8df-0937-4c19-8300-61447a505c3a",
   "metadata": {},
   "outputs": [
    {
     "name": "stderr",
     "output_type": "stream",
     "text": [
      "25/07/13 19:05:26 WARN SparkSession: Using an existing Spark session; only runtime SQL configurations will take effect.\n"
     ]
    }
   ],
   "source": [
    "from pyspark.sql import SparkSession\n",
    "\n",
    "spark = SparkSession.builder.appName(\"First Spark Application\").getOrCreate()"
   ]
  },
  {
   "cell_type": "code",
   "execution_count": 2,
   "id": "03a9600d-1449-451a-bbb4-3b1325a43535",
   "metadata": {},
   "outputs": [],
   "source": [
    "data = [\n",
    "    {\"userId\": 1, \"paymentAmount\": 100.0, \"date\": \"2025-01-01\"}, \n",
    "    {\"userId\": 2, \"paymentAmount\": 150.5, \"date\": \"2025-01-02\"}, \n",
    "    {\"userId\": 3, \"paymentAmount\": 200.75, \"date\": \"2025-01-03\"}, \n",
    "    {\"userId\": 2, \"paymentAmount\": 50.25, \"date\": \"2025-01-04\"}, \n",
    "    {\"userId\": 1, \"paymentAmount\": 80.0, \"date\": \"2025-01-05\"}\n",
    "]\n",
    "\n",
    "df = spark.createDataFrame(data)"
   ]
  },
  {
   "cell_type": "code",
   "execution_count": 3,
   "id": "5328c5d4-621c-46fc-af3b-59b3ea32bedf",
   "metadata": {},
   "outputs": [
    {
     "name": "stderr",
     "output_type": "stream",
     "text": [
      "                                                                                "
     ]
    },
    {
     "name": "stdout",
     "output_type": "stream",
     "text": [
      "+----------+-------------+------+\n",
      "|      date|paymentAmount|userId|\n",
      "+----------+-------------+------+\n",
      "|2025-01-01|        100.0|     1|\n",
      "|2025-01-02|        150.5|     2|\n",
      "|2025-01-03|       200.75|     3|\n",
      "|2025-01-04|        50.25|     2|\n",
      "|2025-01-05|         80.0|     1|\n",
      "+----------+-------------+------+\n",
      "\n"
     ]
    }
   ],
   "source": [
    "df.show()"
   ]
  },
  {
   "cell_type": "code",
   "execution_count": 4,
   "id": "bf5e8b4c-5a8b-4d20-bc1d-47da210a848e",
   "metadata": {},
   "outputs": [
    {
     "data": {
      "text/plain": [
       "5"
      ]
     },
     "execution_count": 4,
     "metadata": {},
     "output_type": "execute_result"
    }
   ],
   "source": [
    "df.count()"
   ]
  },
  {
   "cell_type": "code",
   "execution_count": 5,
   "id": "5df02b16-7c34-40a1-b634-4ab074512397",
   "metadata": {},
   "outputs": [
    {
     "name": "stdout",
     "output_type": "stream",
     "text": [
      "+------+------+----------+\n",
      "|userId|amount|      date|\n",
      "+------+------+----------+\n",
      "|     1| 100.0|2025-01-01|\n",
      "|     2| 150.0|2025-01-02|\n",
      "|     3|200.75|2025-01-03|\n",
      "|     2| 50.25|2025-01-04|\n",
      "|     1|  80.0|2025-01-05|\n",
      "+------+------+----------+\n",
      "\n"
     ]
    }
   ],
   "source": [
    "data = [\n",
    "    (1, 100.0, \"2025-01-01\"), \n",
    "    (2, 150.0, \"2025-01-02\"), \n",
    "    (3, 200.75, \"2025-01-03\"), \n",
    "    (2, 50.25, \"2025-01-04\"), \n",
    "    (1, 80.0, \"2025-01-05\")\n",
    "]\n",
    "\n",
    "df = spark.createDataFrame(data, [\"userId\", \"amount\", \"date\"])\n",
    "df.show()"
   ]
  },
  {
   "cell_type": "code",
   "execution_count": null,
   "id": "66ecd00d-e1d2-4cd9-9b3c-57eab5e4e9b4",
   "metadata": {},
   "outputs": [],
   "source": []
  }
 ],
 "metadata": {
  "kernelspec": {
   "display_name": "Python 3 (ipykernel)",
   "language": "python",
   "name": "python3"
  },
  "language_info": {
   "codemirror_mode": {
    "name": "ipython",
    "version": 3
   },
   "file_extension": ".py",
   "mimetype": "text/x-python",
   "name": "python",
   "nbconvert_exporter": "python",
   "pygments_lexer": "ipython3",
   "version": "3.13.3"
  }
 },
 "nbformat": 4,
 "nbformat_minor": 5
}
